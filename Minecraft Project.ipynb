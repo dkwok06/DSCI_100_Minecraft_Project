{
 "cells": [
  {
   "cell_type": "markdown",
   "id": "62596430-607f-490f-9e1e-06509556a925",
   "metadata": {},
   "source": [
    "# **Predicting Newsletter Subscription from Player Characteristics**"
   ]
  },
  {
   "cell_type": "markdown",
   "id": "69b8d4bc-ba2e-440a-93b1-5466445f1ab6",
   "metadata": {},
   "source": [
    "**DSCI 100 Minecraft Project - Daniel Kwok (46358065)**"
   ]
  },
  {
   "cell_type": "markdown",
   "id": "4ca81be4-974c-4225-81bb-2c59e1cab178",
   "metadata": {},
   "source": [
    "## Introduction\n",
    "\n",
    "The rise of online gaming platforms has led to an explosion of behavioral data, offering unique opportunities to study player engagement at scale. In this project, we collaborate with a research group from the University of British Columbia (UBC), led by Dr. Frank Wood, which operates a Minecraft server that tracks player activity. As the platform grows, understanding who engages with the game—and how—is essential for resource planning and targeted outreach. A key interest is identifying what kinds of players are most likely to subscribe to a game-related newsletter. Newsletter subscriptions often signal deeper engagement and interest, making this an important outcome to predict. \n",
    "\n",
    "Thus my question for this project is: **Is a player likely to subscribe to the newsletter, based on age and played hours?** To answer this, we will use a knn classifier algorithm.\n",
    "\n",
    "By analyzing the characteristics of hours played and experience, we aim to uncover patterns that differentiate subscribers from non-subscribers. These insights can support the development of more personalized and efficient player communication strategies.\n",
    "\n",
    "### Data Description\n",
    "We are using the players.csv and the sessions.csv data sets from DSCI 100 to predict if a player from this server will subscribe or not. \n",
    "\n",
    "Two datasets were provided:\n",
    "- `players.csv`: Information about each unique player (e.g., age, gender, experience level, played hours, and subscription status).\n",
    "- `sessions.csv`: Detailed records of gameplay sessions, including start and end times.\n",
    "\n",
    "Description of columns in players.csv:\n",
    "- **experience**: A factor indicating the player’s experience level (e.g., Pro, Veteran, Amateur, Regular)\n",
    "- **subscribe**: A logical value (TRUE/FALSE) indicating whether the player subscribed to the newsletter\n",
    "- **hashedEmail**: A unique, anonymized identifier for each player used to join datasets\n",
    "- **played_hours**: The total number of hours the player has reported or accumulated playing the game\n",
    "- **name**: The first name of the player (likely pseudonymized or fictional for privacy)\n",
    "- **gender**: The gender of the player (e.g., Male, Female)\n",
    "- **Age**: The age of the player, in years (numeric)\n",
    "\n",
    "Description of columns in sessions.csv:\n",
    "- **hashedEmail**: A unique anonymized player ID, used to join with player data\n",
    "- **start_time**: The timestamp when a session began (character format, to be parsed)\n",
    "- **end_time**: The timestamp when the session ended (character format)\n",
    "- **original_start_time**: The same start time as a Unix timestamp (numeric)\n",
    "- **original_end_time**: The same end time as a Unix timestamp (numeric)\n"
   ]
  },
  {
   "cell_type": "markdown",
   "id": "b236e05a-b740-4ef0-aff9-715b78707f93",
   "metadata": {},
   "source": [
    "## Methods and Results\n",
    "\n",
    "\n",
    "Steps: \n",
    "\n",
    "1) Loading essential libraries and reading the data\n",
    "2) "
   ]
  },
  {
   "cell_type": "markdown",
   "id": "08eaff17-ff30-4af4-92d0-e3f5c406ec4b",
   "metadata": {},
   "source": [
    "## Step 1\n",
    "Loading essential libraries, reading the data and combining the data"
   ]
  },
  {
   "cell_type": "code",
   "execution_count": 19,
   "id": "f9f2d1b7-ed85-43c5-8267-55b3de626649",
   "metadata": {},
   "outputs": [
    {
     "name": "stderr",
     "output_type": "stream",
     "text": [
      "\u001b[1mRows: \u001b[22m\u001b[34m196\u001b[39m \u001b[1mColumns: \u001b[22m\u001b[34m7\u001b[39m\n",
      "\u001b[36m──\u001b[39m \u001b[1mColumn specification\u001b[22m \u001b[36m────────────────────────────────────────────────────────\u001b[39m\n",
      "\u001b[1mDelimiter:\u001b[22m \",\"\n",
      "\u001b[31mchr\u001b[39m (4): experience, hashedEmail, name, gender\n",
      "\u001b[32mdbl\u001b[39m (2): played_hours, Age\n",
      "\u001b[33mlgl\u001b[39m (1): subscribe\n",
      "\n",
      "\u001b[36mℹ\u001b[39m Use `spec()` to retrieve the full column specification for this data.\n",
      "\u001b[36mℹ\u001b[39m Specify the column types or set `show_col_types = FALSE` to quiet this message.\n",
      "\u001b[1mRows: \u001b[22m\u001b[34m1535\u001b[39m \u001b[1mColumns: \u001b[22m\u001b[34m5\u001b[39m\n",
      "\u001b[36m──\u001b[39m \u001b[1mColumn specification\u001b[22m \u001b[36m────────────────────────────────────────────────────────\u001b[39m\n",
      "\u001b[1mDelimiter:\u001b[22m \",\"\n",
      "\u001b[31mchr\u001b[39m (3): hashedEmail, start_time, end_time\n",
      "\u001b[32mdbl\u001b[39m (2): original_start_time, original_end_time\n",
      "\n",
      "\u001b[36mℹ\u001b[39m Use `spec()` to retrieve the full column specification for this data.\n",
      "\u001b[36mℹ\u001b[39m Specify the column types or set `show_col_types = FALSE` to quiet this message.\n"
     ]
    },
    {
     "data": {
      "text/html": [
       "<table class=\"dataframe\">\n",
       "<caption>A tibble: 6 × 11</caption>\n",
       "<thead>\n",
       "\t<tr><th scope=col>experience</th><th scope=col>subscribe</th><th scope=col>hashedEmail</th><th scope=col>played_hours</th><th scope=col>name</th><th scope=col>gender</th><th scope=col>Age</th><th scope=col>start_time</th><th scope=col>end_time</th><th scope=col>original_start_time</th><th scope=col>original_end_time</th></tr>\n",
       "\t<tr><th scope=col>&lt;chr&gt;</th><th scope=col>&lt;lgl&gt;</th><th scope=col>&lt;chr&gt;</th><th scope=col>&lt;dbl&gt;</th><th scope=col>&lt;chr&gt;</th><th scope=col>&lt;chr&gt;</th><th scope=col>&lt;dbl&gt;</th><th scope=col>&lt;chr&gt;</th><th scope=col>&lt;chr&gt;</th><th scope=col>&lt;dbl&gt;</th><th scope=col>&lt;dbl&gt;</th></tr>\n",
       "</thead>\n",
       "<tbody>\n",
       "\t<tr><td>Pro</td><td>TRUE</td><td>f6daba428a5e19a3d47574858c13550499be23603422e6a0ee9728f8b53e192d</td><td>30.3</td><td>Morgan</td><td>Male</td><td>9</td><td>08/08/2024 00:21</td><td>08/08/2024 01:35</td><td>1.72308e+12</td><td>1.72308e+12</td></tr>\n",
       "\t<tr><td>Pro</td><td>TRUE</td><td>f6daba428a5e19a3d47574858c13550499be23603422e6a0ee9728f8b53e192d</td><td>30.3</td><td>Morgan</td><td>Male</td><td>9</td><td>09/09/2024 22:30</td><td>09/09/2024 22:37</td><td>1.72592e+12</td><td>1.72592e+12</td></tr>\n",
       "\t<tr><td>Pro</td><td>TRUE</td><td>f6daba428a5e19a3d47574858c13550499be23603422e6a0ee9728f8b53e192d</td><td>30.3</td><td>Morgan</td><td>Male</td><td>9</td><td>08/08/2024 02:41</td><td>08/08/2024 03:25</td><td>1.72308e+12</td><td>1.72309e+12</td></tr>\n",
       "\t<tr><td>Pro</td><td>TRUE</td><td>f6daba428a5e19a3d47574858c13550499be23603422e6a0ee9728f8b53e192d</td><td>30.3</td><td>Morgan</td><td>Male</td><td>9</td><td>10/09/2024 15:07</td><td>10/09/2024 15:29</td><td>1.72598e+12</td><td>1.72598e+12</td></tr>\n",
       "\t<tr><td>Pro</td><td>TRUE</td><td>f6daba428a5e19a3d47574858c13550499be23603422e6a0ee9728f8b53e192d</td><td>30.3</td><td>Morgan</td><td>Male</td><td>9</td><td>05/05/2024 22:21</td><td>05/05/2024 23:17</td><td>1.71495e+12</td><td>1.71495e+12</td></tr>\n",
       "\t<tr><td>Pro</td><td>TRUE</td><td>f6daba428a5e19a3d47574858c13550499be23603422e6a0ee9728f8b53e192d</td><td>30.3</td><td>Morgan</td><td>Male</td><td>9</td><td>06/04/2024 22:24</td><td>06/04/2024 23:33</td><td>1.71244e+12</td><td>1.71245e+12</td></tr>\n",
       "</tbody>\n",
       "</table>\n"
      ],
      "text/latex": [
       "A tibble: 6 × 11\n",
       "\\begin{tabular}{lllllllllll}\n",
       " experience & subscribe & hashedEmail & played\\_hours & name & gender & Age & start\\_time & end\\_time & original\\_start\\_time & original\\_end\\_time\\\\\n",
       " <chr> & <lgl> & <chr> & <dbl> & <chr> & <chr> & <dbl> & <chr> & <chr> & <dbl> & <dbl>\\\\\n",
       "\\hline\n",
       "\t Pro & TRUE & f6daba428a5e19a3d47574858c13550499be23603422e6a0ee9728f8b53e192d & 30.3 & Morgan & Male & 9 & 08/08/2024 00:21 & 08/08/2024 01:35 & 1.72308e+12 & 1.72308e+12\\\\\n",
       "\t Pro & TRUE & f6daba428a5e19a3d47574858c13550499be23603422e6a0ee9728f8b53e192d & 30.3 & Morgan & Male & 9 & 09/09/2024 22:30 & 09/09/2024 22:37 & 1.72592e+12 & 1.72592e+12\\\\\n",
       "\t Pro & TRUE & f6daba428a5e19a3d47574858c13550499be23603422e6a0ee9728f8b53e192d & 30.3 & Morgan & Male & 9 & 08/08/2024 02:41 & 08/08/2024 03:25 & 1.72308e+12 & 1.72309e+12\\\\\n",
       "\t Pro & TRUE & f6daba428a5e19a3d47574858c13550499be23603422e6a0ee9728f8b53e192d & 30.3 & Morgan & Male & 9 & 10/09/2024 15:07 & 10/09/2024 15:29 & 1.72598e+12 & 1.72598e+12\\\\\n",
       "\t Pro & TRUE & f6daba428a5e19a3d47574858c13550499be23603422e6a0ee9728f8b53e192d & 30.3 & Morgan & Male & 9 & 05/05/2024 22:21 & 05/05/2024 23:17 & 1.71495e+12 & 1.71495e+12\\\\\n",
       "\t Pro & TRUE & f6daba428a5e19a3d47574858c13550499be23603422e6a0ee9728f8b53e192d & 30.3 & Morgan & Male & 9 & 06/04/2024 22:24 & 06/04/2024 23:33 & 1.71244e+12 & 1.71245e+12\\\\\n",
       "\\end{tabular}\n"
      ],
      "text/markdown": [
       "\n",
       "A tibble: 6 × 11\n",
       "\n",
       "| experience &lt;chr&gt; | subscribe &lt;lgl&gt; | hashedEmail &lt;chr&gt; | played_hours &lt;dbl&gt; | name &lt;chr&gt; | gender &lt;chr&gt; | Age &lt;dbl&gt; | start_time &lt;chr&gt; | end_time &lt;chr&gt; | original_start_time &lt;dbl&gt; | original_end_time &lt;dbl&gt; |\n",
       "|---|---|---|---|---|---|---|---|---|---|---|\n",
       "| Pro | TRUE | f6daba428a5e19a3d47574858c13550499be23603422e6a0ee9728f8b53e192d | 30.3 | Morgan | Male | 9 | 08/08/2024 00:21 | 08/08/2024 01:35 | 1.72308e+12 | 1.72308e+12 |\n",
       "| Pro | TRUE | f6daba428a5e19a3d47574858c13550499be23603422e6a0ee9728f8b53e192d | 30.3 | Morgan | Male | 9 | 09/09/2024 22:30 | 09/09/2024 22:37 | 1.72592e+12 | 1.72592e+12 |\n",
       "| Pro | TRUE | f6daba428a5e19a3d47574858c13550499be23603422e6a0ee9728f8b53e192d | 30.3 | Morgan | Male | 9 | 08/08/2024 02:41 | 08/08/2024 03:25 | 1.72308e+12 | 1.72309e+12 |\n",
       "| Pro | TRUE | f6daba428a5e19a3d47574858c13550499be23603422e6a0ee9728f8b53e192d | 30.3 | Morgan | Male | 9 | 10/09/2024 15:07 | 10/09/2024 15:29 | 1.72598e+12 | 1.72598e+12 |\n",
       "| Pro | TRUE | f6daba428a5e19a3d47574858c13550499be23603422e6a0ee9728f8b53e192d | 30.3 | Morgan | Male | 9 | 05/05/2024 22:21 | 05/05/2024 23:17 | 1.71495e+12 | 1.71495e+12 |\n",
       "| Pro | TRUE | f6daba428a5e19a3d47574858c13550499be23603422e6a0ee9728f8b53e192d | 30.3 | Morgan | Male | 9 | 06/04/2024 22:24 | 06/04/2024 23:33 | 1.71244e+12 | 1.71245e+12 |\n",
       "\n"
      ],
      "text/plain": [
       "  experience subscribe\n",
       "1 Pro        TRUE     \n",
       "2 Pro        TRUE     \n",
       "3 Pro        TRUE     \n",
       "4 Pro        TRUE     \n",
       "5 Pro        TRUE     \n",
       "6 Pro        TRUE     \n",
       "  hashedEmail                                                      played_hours\n",
       "1 f6daba428a5e19a3d47574858c13550499be23603422e6a0ee9728f8b53e192d 30.3        \n",
       "2 f6daba428a5e19a3d47574858c13550499be23603422e6a0ee9728f8b53e192d 30.3        \n",
       "3 f6daba428a5e19a3d47574858c13550499be23603422e6a0ee9728f8b53e192d 30.3        \n",
       "4 f6daba428a5e19a3d47574858c13550499be23603422e6a0ee9728f8b53e192d 30.3        \n",
       "5 f6daba428a5e19a3d47574858c13550499be23603422e6a0ee9728f8b53e192d 30.3        \n",
       "6 f6daba428a5e19a3d47574858c13550499be23603422e6a0ee9728f8b53e192d 30.3        \n",
       "  name   gender Age start_time       end_time         original_start_time\n",
       "1 Morgan Male   9   08/08/2024 00:21 08/08/2024 01:35 1.72308e+12        \n",
       "2 Morgan Male   9   09/09/2024 22:30 09/09/2024 22:37 1.72592e+12        \n",
       "3 Morgan Male   9   08/08/2024 02:41 08/08/2024 03:25 1.72308e+12        \n",
       "4 Morgan Male   9   10/09/2024 15:07 10/09/2024 15:29 1.72598e+12        \n",
       "5 Morgan Male   9   05/05/2024 22:21 05/05/2024 23:17 1.71495e+12        \n",
       "6 Morgan Male   9   06/04/2024 22:24 06/04/2024 23:33 1.71244e+12        \n",
       "  original_end_time\n",
       "1 1.72308e+12      \n",
       "2 1.72592e+12      \n",
       "3 1.72309e+12      \n",
       "4 1.72598e+12      \n",
       "5 1.71495e+12      \n",
       "6 1.71245e+12      "
      ]
     },
     "metadata": {},
     "output_type": "display_data"
    }
   ],
   "source": [
    "# Load essential libraries for data manipulation, datetime processing, and modeling\n",
    "library(tidyverse)\n",
    "library(lubridate)\n",
    "library(tidymodels)\n",
    "\n",
    "# Read in the player dataset and standardize column names by replacing spaces with underscores\n",
    "players <- read_csv(\"data/players.csv\") %>%\n",
    "  rename_with(~ str_replace_all(., \" \", \"_\"))\n",
    "\n",
    "# Read in the session dataset and standardize column names similarly\n",
    "sessions <- read_csv(\"data/sessions.csv\") %>%\n",
    "  rename_with(~ str_replace_all(., \" \", \"_\"))\n",
    "\n",
    "\n",
    "combined_data <- left_join(players, sessions, by = \"hashedEmail\")\n",
    "head(combined_data)"
   ]
  },
  {
   "cell_type": "markdown",
   "id": "3f007938-3174-4382-a822-13a58a65b608",
   "metadata": {},
   "source": [
    "## Discussion"
   ]
  },
  {
   "cell_type": "code",
   "execution_count": null,
   "id": "b83c78ba-c2a9-489b-87e2-795b0d93dc88",
   "metadata": {},
   "outputs": [],
   "source": []
  },
  {
   "cell_type": "markdown",
   "id": "a84ae53e-6b19-4687-936f-480ca35be3ee",
   "metadata": {},
   "source": [
    "## References"
   ]
  }
 ],
 "metadata": {
  "kernelspec": {
   "display_name": "R",
   "language": "R",
   "name": "ir"
  },
  "language_info": {
   "codemirror_mode": "r",
   "file_extension": ".r",
   "mimetype": "text/x-r-source",
   "name": "R",
   "pygments_lexer": "r",
   "version": "4.3.3"
  }
 },
 "nbformat": 4,
 "nbformat_minor": 5
}
