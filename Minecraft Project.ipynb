{
 "cells": [
  {
   "cell_type": "markdown",
   "id": "62596430-607f-490f-9e1e-06509556a925",
   "metadata": {},
   "source": [
    "DSCI_100 - Minecraft Project - Daniel Kwok (46358065)"
   ]
  },
  {
   "cell_type": "code",
   "execution_count": null,
   "id": "eeb60648-7eb0-4216-8931-0149a00bfe4e",
   "metadata": {},
   "outputs": [],
   "source": []
  }
 ],
 "metadata": {
  "kernelspec": {
   "display_name": "R",
   "language": "R",
   "name": "ir"
  },
  "language_info": {
   "codemirror_mode": "r",
   "file_extension": ".r",
   "mimetype": "text/x-r-source",
   "name": "R",
   "pygments_lexer": "r",
   "version": "4.3.3"
  }
 },
 "nbformat": 4,
 "nbformat_minor": 5
}
